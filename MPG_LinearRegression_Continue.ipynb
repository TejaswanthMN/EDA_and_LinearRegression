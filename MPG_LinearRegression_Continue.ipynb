{
  "nbformat": 4,
  "nbformat_minor": 0,
  "metadata": {
    "colab": {
      "provenance": []
    },
    "kernelspec": {
      "name": "python3",
      "display_name": "Python 3"
    },
    "language_info": {
      "name": "python"
    }
  },
  "cells": [
    {
      "cell_type": "code",
      "execution_count": 3,
      "metadata": {
        "id": "c3-h8CVzos3Q"
      },
      "outputs": [],
      "source": [
        "#importing necessary libraries\n",
        "import numpy as np\n",
        "\n",
        "from sklearn.linear_model import LinearRegression\n",
        "from sklearn.linear_model import Ridge\n",
        "from sklearn.linear_model import Lasso\n",
        "\n",
        "from sklearn.metrics import r2_score\n",
        "\n",
        "import pandas as pd\n",
        "\n",
        "import matplotlib.pyplot as plt\n",
        "\n",
        "import seaborn as sns"
      ]
    },
    {
      "cell_type": "code",
      "source": [
        "#things we have already done in previous notebook\n",
        "cars = pd.read_csv(\"Car-mpg- Dataset.csv\")  \n",
        "cars = cars.drop('car_name', axis=1)\n",
        "cars['origin'] = cars['origin'].replace({1: 'america', 2: 'europe', 3: 'asia'})\n",
        "cars = pd.get_dummies(cars, columns=['origin'])\n",
        "cars = cars.replace('?', np.nan)\n",
        "cars = cars.apply(lambda x: x.fillna(x.median()),axis=0)"
      ],
      "metadata": {
        "id": "89IkaqTQqyG2"
      },
      "execution_count": 4,
      "outputs": []
    },
    {
      "cell_type": "code",
      "source": [
        "#splitting data into dependent and independent\n",
        "X = cars.drop('mpg', axis=1)\n",
        "\n",
        "y = cars[['mpg']]"
      ],
      "metadata": {
        "id": "_4_RyssErOV7"
      },
      "execution_count": 5,
      "outputs": []
    },
    {
      "cell_type": "code",
      "source": [
        "#scaling the data\n",
        "\n",
        "from sklearn import preprocessing\n",
        "\n",
        "X_scaled = preprocessing.scale(X)\n",
        "X_scaled = pd.DataFrame(X_scaled, columns=X.columns)\n",
        "X_scaled"
      ],
      "metadata": {
        "colab": {
          "base_uri": "https://localhost:8080/",
          "height": 423
        },
        "id": "XIUOUOumrnpP",
        "outputId": "b04c64e9-6a8e-4f1d-cbc8-a1b5330d8918"
      },
      "execution_count": 6,
      "outputs": [
        {
          "output_type": "execute_result",
          "data": {
            "text/plain": [
              "          cyl      disp        hp        wt       acc        yr  car_type  \\\n",
              "0    1.498191  1.090604  0.673118  0.630870 -1.295498 -1.627426 -1.062235   \n",
              "1    1.498191  1.503514  1.589958  0.854333 -1.477038 -1.627426 -1.062235   \n",
              "2    1.498191  1.196232  1.197027  0.550470 -1.658577 -1.627426 -1.062235   \n",
              "3    1.498191  1.061796  1.197027  0.546923 -1.295498 -1.627426 -1.062235   \n",
              "4    1.498191  1.042591  0.935072  0.565841 -1.840117 -1.627426 -1.062235   \n",
              "..        ...       ...       ...       ...       ...       ...       ...   \n",
              "393 -0.856321 -0.513026 -0.479482 -0.213324  0.011586  1.621983  0.941412   \n",
              "394 -0.856321 -0.925936 -1.370127 -0.993671  3.279296  1.621983  0.941412   \n",
              "395 -0.856321 -0.561039 -0.531873 -0.798585 -1.440730  1.621983  0.941412   \n",
              "396 -0.856321 -0.705077 -0.662850 -0.408411  1.100822  1.621983  0.941412   \n",
              "397 -0.856321 -0.714680 -0.584264 -0.296088  1.391285  1.621983  0.941412   \n",
              "\n",
              "     origin_america  origin_asia  origin_europe  \n",
              "0          0.773559    -0.497643      -0.461968  \n",
              "1          0.773559    -0.497643      -0.461968  \n",
              "2          0.773559    -0.497643      -0.461968  \n",
              "3          0.773559    -0.497643      -0.461968  \n",
              "4          0.773559    -0.497643      -0.461968  \n",
              "..              ...          ...            ...  \n",
              "393        0.773559    -0.497643      -0.461968  \n",
              "394       -1.292726    -0.497643       2.164651  \n",
              "395        0.773559    -0.497643      -0.461968  \n",
              "396        0.773559    -0.497643      -0.461968  \n",
              "397        0.773559    -0.497643      -0.461968  \n",
              "\n",
              "[398 rows x 10 columns]"
            ],
            "text/html": [
              "\n",
              "  <div id=\"df-9b1e05df-232f-42b9-94b1-14eadf81ea27\">\n",
              "    <div class=\"colab-df-container\">\n",
              "      <div>\n",
              "<style scoped>\n",
              "    .dataframe tbody tr th:only-of-type {\n",
              "        vertical-align: middle;\n",
              "    }\n",
              "\n",
              "    .dataframe tbody tr th {\n",
              "        vertical-align: top;\n",
              "    }\n",
              "\n",
              "    .dataframe thead th {\n",
              "        text-align: right;\n",
              "    }\n",
              "</style>\n",
              "<table border=\"1\" class=\"dataframe\">\n",
              "  <thead>\n",
              "    <tr style=\"text-align: right;\">\n",
              "      <th></th>\n",
              "      <th>cyl</th>\n",
              "      <th>disp</th>\n",
              "      <th>hp</th>\n",
              "      <th>wt</th>\n",
              "      <th>acc</th>\n",
              "      <th>yr</th>\n",
              "      <th>car_type</th>\n",
              "      <th>origin_america</th>\n",
              "      <th>origin_asia</th>\n",
              "      <th>origin_europe</th>\n",
              "    </tr>\n",
              "  </thead>\n",
              "  <tbody>\n",
              "    <tr>\n",
              "      <th>0</th>\n",
              "      <td>1.498191</td>\n",
              "      <td>1.090604</td>\n",
              "      <td>0.673118</td>\n",
              "      <td>0.630870</td>\n",
              "      <td>-1.295498</td>\n",
              "      <td>-1.627426</td>\n",
              "      <td>-1.062235</td>\n",
              "      <td>0.773559</td>\n",
              "      <td>-0.497643</td>\n",
              "      <td>-0.461968</td>\n",
              "    </tr>\n",
              "    <tr>\n",
              "      <th>1</th>\n",
              "      <td>1.498191</td>\n",
              "      <td>1.503514</td>\n",
              "      <td>1.589958</td>\n",
              "      <td>0.854333</td>\n",
              "      <td>-1.477038</td>\n",
              "      <td>-1.627426</td>\n",
              "      <td>-1.062235</td>\n",
              "      <td>0.773559</td>\n",
              "      <td>-0.497643</td>\n",
              "      <td>-0.461968</td>\n",
              "    </tr>\n",
              "    <tr>\n",
              "      <th>2</th>\n",
              "      <td>1.498191</td>\n",
              "      <td>1.196232</td>\n",
              "      <td>1.197027</td>\n",
              "      <td>0.550470</td>\n",
              "      <td>-1.658577</td>\n",
              "      <td>-1.627426</td>\n",
              "      <td>-1.062235</td>\n",
              "      <td>0.773559</td>\n",
              "      <td>-0.497643</td>\n",
              "      <td>-0.461968</td>\n",
              "    </tr>\n",
              "    <tr>\n",
              "      <th>3</th>\n",
              "      <td>1.498191</td>\n",
              "      <td>1.061796</td>\n",
              "      <td>1.197027</td>\n",
              "      <td>0.546923</td>\n",
              "      <td>-1.295498</td>\n",
              "      <td>-1.627426</td>\n",
              "      <td>-1.062235</td>\n",
              "      <td>0.773559</td>\n",
              "      <td>-0.497643</td>\n",
              "      <td>-0.461968</td>\n",
              "    </tr>\n",
              "    <tr>\n",
              "      <th>4</th>\n",
              "      <td>1.498191</td>\n",
              "      <td>1.042591</td>\n",
              "      <td>0.935072</td>\n",
              "      <td>0.565841</td>\n",
              "      <td>-1.840117</td>\n",
              "      <td>-1.627426</td>\n",
              "      <td>-1.062235</td>\n",
              "      <td>0.773559</td>\n",
              "      <td>-0.497643</td>\n",
              "      <td>-0.461968</td>\n",
              "    </tr>\n",
              "    <tr>\n",
              "      <th>...</th>\n",
              "      <td>...</td>\n",
              "      <td>...</td>\n",
              "      <td>...</td>\n",
              "      <td>...</td>\n",
              "      <td>...</td>\n",
              "      <td>...</td>\n",
              "      <td>...</td>\n",
              "      <td>...</td>\n",
              "      <td>...</td>\n",
              "      <td>...</td>\n",
              "    </tr>\n",
              "    <tr>\n",
              "      <th>393</th>\n",
              "      <td>-0.856321</td>\n",
              "      <td>-0.513026</td>\n",
              "      <td>-0.479482</td>\n",
              "      <td>-0.213324</td>\n",
              "      <td>0.011586</td>\n",
              "      <td>1.621983</td>\n",
              "      <td>0.941412</td>\n",
              "      <td>0.773559</td>\n",
              "      <td>-0.497643</td>\n",
              "      <td>-0.461968</td>\n",
              "    </tr>\n",
              "    <tr>\n",
              "      <th>394</th>\n",
              "      <td>-0.856321</td>\n",
              "      <td>-0.925936</td>\n",
              "      <td>-1.370127</td>\n",
              "      <td>-0.993671</td>\n",
              "      <td>3.279296</td>\n",
              "      <td>1.621983</td>\n",
              "      <td>0.941412</td>\n",
              "      <td>-1.292726</td>\n",
              "      <td>-0.497643</td>\n",
              "      <td>2.164651</td>\n",
              "    </tr>\n",
              "    <tr>\n",
              "      <th>395</th>\n",
              "      <td>-0.856321</td>\n",
              "      <td>-0.561039</td>\n",
              "      <td>-0.531873</td>\n",
              "      <td>-0.798585</td>\n",
              "      <td>-1.440730</td>\n",
              "      <td>1.621983</td>\n",
              "      <td>0.941412</td>\n",
              "      <td>0.773559</td>\n",
              "      <td>-0.497643</td>\n",
              "      <td>-0.461968</td>\n",
              "    </tr>\n",
              "    <tr>\n",
              "      <th>396</th>\n",
              "      <td>-0.856321</td>\n",
              "      <td>-0.705077</td>\n",
              "      <td>-0.662850</td>\n",
              "      <td>-0.408411</td>\n",
              "      <td>1.100822</td>\n",
              "      <td>1.621983</td>\n",
              "      <td>0.941412</td>\n",
              "      <td>0.773559</td>\n",
              "      <td>-0.497643</td>\n",
              "      <td>-0.461968</td>\n",
              "    </tr>\n",
              "    <tr>\n",
              "      <th>397</th>\n",
              "      <td>-0.856321</td>\n",
              "      <td>-0.714680</td>\n",
              "      <td>-0.584264</td>\n",
              "      <td>-0.296088</td>\n",
              "      <td>1.391285</td>\n",
              "      <td>1.621983</td>\n",
              "      <td>0.941412</td>\n",
              "      <td>0.773559</td>\n",
              "      <td>-0.497643</td>\n",
              "      <td>-0.461968</td>\n",
              "    </tr>\n",
              "  </tbody>\n",
              "</table>\n",
              "<p>398 rows × 10 columns</p>\n",
              "</div>\n",
              "      <button class=\"colab-df-convert\" onclick=\"convertToInteractive('df-9b1e05df-232f-42b9-94b1-14eadf81ea27')\"\n",
              "              title=\"Convert this dataframe to an interactive table.\"\n",
              "              style=\"display:none;\">\n",
              "        \n",
              "  <svg xmlns=\"http://www.w3.org/2000/svg\" height=\"24px\"viewBox=\"0 0 24 24\"\n",
              "       width=\"24px\">\n",
              "    <path d=\"M0 0h24v24H0V0z\" fill=\"none\"/>\n",
              "    <path d=\"M18.56 5.44l.94 2.06.94-2.06 2.06-.94-2.06-.94-.94-2.06-.94 2.06-2.06.94zm-11 1L8.5 8.5l.94-2.06 2.06-.94-2.06-.94L8.5 2.5l-.94 2.06-2.06.94zm10 10l.94 2.06.94-2.06 2.06-.94-2.06-.94-.94-2.06-.94 2.06-2.06.94z\"/><path d=\"M17.41 7.96l-1.37-1.37c-.4-.4-.92-.59-1.43-.59-.52 0-1.04.2-1.43.59L10.3 9.45l-7.72 7.72c-.78.78-.78 2.05 0 2.83L4 21.41c.39.39.9.59 1.41.59.51 0 1.02-.2 1.41-.59l7.78-7.78 2.81-2.81c.8-.78.8-2.07 0-2.86zM5.41 20L4 18.59l7.72-7.72 1.47 1.35L5.41 20z\"/>\n",
              "  </svg>\n",
              "      </button>\n",
              "      \n",
              "  <style>\n",
              "    .colab-df-container {\n",
              "      display:flex;\n",
              "      flex-wrap:wrap;\n",
              "      gap: 12px;\n",
              "    }\n",
              "\n",
              "    .colab-df-convert {\n",
              "      background-color: #E8F0FE;\n",
              "      border: none;\n",
              "      border-radius: 50%;\n",
              "      cursor: pointer;\n",
              "      display: none;\n",
              "      fill: #1967D2;\n",
              "      height: 32px;\n",
              "      padding: 0 0 0 0;\n",
              "      width: 32px;\n",
              "    }\n",
              "\n",
              "    .colab-df-convert:hover {\n",
              "      background-color: #E2EBFA;\n",
              "      box-shadow: 0px 1px 2px rgba(60, 64, 67, 0.3), 0px 1px 3px 1px rgba(60, 64, 67, 0.15);\n",
              "      fill: #174EA6;\n",
              "    }\n",
              "\n",
              "    [theme=dark] .colab-df-convert {\n",
              "      background-color: #3B4455;\n",
              "      fill: #D2E3FC;\n",
              "    }\n",
              "\n",
              "    [theme=dark] .colab-df-convert:hover {\n",
              "      background-color: #434B5C;\n",
              "      box-shadow: 0px 1px 3px 1px rgba(0, 0, 0, 0.15);\n",
              "      filter: drop-shadow(0px 1px 2px rgba(0, 0, 0, 0.3));\n",
              "      fill: #FFFFFF;\n",
              "    }\n",
              "  </style>\n",
              "\n",
              "      <script>\n",
              "        const buttonEl =\n",
              "          document.querySelector('#df-9b1e05df-232f-42b9-94b1-14eadf81ea27 button.colab-df-convert');\n",
              "        buttonEl.style.display =\n",
              "          google.colab.kernel.accessAllowed ? 'block' : 'none';\n",
              "\n",
              "        async function convertToInteractive(key) {\n",
              "          const element = document.querySelector('#df-9b1e05df-232f-42b9-94b1-14eadf81ea27');\n",
              "          const dataTable =\n",
              "            await google.colab.kernel.invokeFunction('convertToInteractive',\n",
              "                                                     [key], {});\n",
              "          if (!dataTable) return;\n",
              "\n",
              "          const docLinkHtml = 'Like what you see? Visit the ' +\n",
              "            '<a target=\"_blank\" href=https://colab.research.google.com/notebooks/data_table.ipynb>data table notebook</a>'\n",
              "            + ' to learn more about interactive tables.';\n",
              "          element.innerHTML = '';\n",
              "          dataTable['output_type'] = 'display_data';\n",
              "          await google.colab.output.renderOutput(dataTable, element);\n",
              "          const docLink = document.createElement('div');\n",
              "          docLink.innerHTML = docLinkHtml;\n",
              "          element.appendChild(docLink);\n",
              "        }\n",
              "      </script>\n",
              "    </div>\n",
              "  </div>\n",
              "  "
            ]
          },
          "metadata": {},
          "execution_count": 6
        }
      ]
    },
    {
      "cell_type": "code",
      "source": [
        "y_scaled = preprocessing.scale(y)\n",
        "y_scaled = pd.DataFrame(y_scaled, columns=y.columns) \n",
        "y_scaled"
      ],
      "metadata": {
        "colab": {
          "base_uri": "https://localhost:8080/",
          "height": 423
        },
        "id": "LYiL8-Hbr_kW",
        "outputId": "5df52e6f-48b6-455f-aaad-0f16f4cceeb0"
      },
      "execution_count": 7,
      "outputs": [
        {
          "output_type": "execute_result",
          "data": {
            "text/plain": [
              "          mpg\n",
              "0   -0.706439\n",
              "1   -1.090751\n",
              "2   -0.706439\n",
              "3   -0.962647\n",
              "4   -0.834543\n",
              "..        ...\n",
              "393  0.446497\n",
              "394  2.624265\n",
              "395  1.087017\n",
              "396  0.574601\n",
              "397  0.958913\n",
              "\n",
              "[398 rows x 1 columns]"
            ],
            "text/html": [
              "\n",
              "  <div id=\"df-071861d5-d685-4fa9-9f58-2c0fd6f31e67\">\n",
              "    <div class=\"colab-df-container\">\n",
              "      <div>\n",
              "<style scoped>\n",
              "    .dataframe tbody tr th:only-of-type {\n",
              "        vertical-align: middle;\n",
              "    }\n",
              "\n",
              "    .dataframe tbody tr th {\n",
              "        vertical-align: top;\n",
              "    }\n",
              "\n",
              "    .dataframe thead th {\n",
              "        text-align: right;\n",
              "    }\n",
              "</style>\n",
              "<table border=\"1\" class=\"dataframe\">\n",
              "  <thead>\n",
              "    <tr style=\"text-align: right;\">\n",
              "      <th></th>\n",
              "      <th>mpg</th>\n",
              "    </tr>\n",
              "  </thead>\n",
              "  <tbody>\n",
              "    <tr>\n",
              "      <th>0</th>\n",
              "      <td>-0.706439</td>\n",
              "    </tr>\n",
              "    <tr>\n",
              "      <th>1</th>\n",
              "      <td>-1.090751</td>\n",
              "    </tr>\n",
              "    <tr>\n",
              "      <th>2</th>\n",
              "      <td>-0.706439</td>\n",
              "    </tr>\n",
              "    <tr>\n",
              "      <th>3</th>\n",
              "      <td>-0.962647</td>\n",
              "    </tr>\n",
              "    <tr>\n",
              "      <th>4</th>\n",
              "      <td>-0.834543</td>\n",
              "    </tr>\n",
              "    <tr>\n",
              "      <th>...</th>\n",
              "      <td>...</td>\n",
              "    </tr>\n",
              "    <tr>\n",
              "      <th>393</th>\n",
              "      <td>0.446497</td>\n",
              "    </tr>\n",
              "    <tr>\n",
              "      <th>394</th>\n",
              "      <td>2.624265</td>\n",
              "    </tr>\n",
              "    <tr>\n",
              "      <th>395</th>\n",
              "      <td>1.087017</td>\n",
              "    </tr>\n",
              "    <tr>\n",
              "      <th>396</th>\n",
              "      <td>0.574601</td>\n",
              "    </tr>\n",
              "    <tr>\n",
              "      <th>397</th>\n",
              "      <td>0.958913</td>\n",
              "    </tr>\n",
              "  </tbody>\n",
              "</table>\n",
              "<p>398 rows × 1 columns</p>\n",
              "</div>\n",
              "      <button class=\"colab-df-convert\" onclick=\"convertToInteractive('df-071861d5-d685-4fa9-9f58-2c0fd6f31e67')\"\n",
              "              title=\"Convert this dataframe to an interactive table.\"\n",
              "              style=\"display:none;\">\n",
              "        \n",
              "  <svg xmlns=\"http://www.w3.org/2000/svg\" height=\"24px\"viewBox=\"0 0 24 24\"\n",
              "       width=\"24px\">\n",
              "    <path d=\"M0 0h24v24H0V0z\" fill=\"none\"/>\n",
              "    <path d=\"M18.56 5.44l.94 2.06.94-2.06 2.06-.94-2.06-.94-.94-2.06-.94 2.06-2.06.94zm-11 1L8.5 8.5l.94-2.06 2.06-.94-2.06-.94L8.5 2.5l-.94 2.06-2.06.94zm10 10l.94 2.06.94-2.06 2.06-.94-2.06-.94-.94-2.06-.94 2.06-2.06.94z\"/><path d=\"M17.41 7.96l-1.37-1.37c-.4-.4-.92-.59-1.43-.59-.52 0-1.04.2-1.43.59L10.3 9.45l-7.72 7.72c-.78.78-.78 2.05 0 2.83L4 21.41c.39.39.9.59 1.41.59.51 0 1.02-.2 1.41-.59l7.78-7.78 2.81-2.81c.8-.78.8-2.07 0-2.86zM5.41 20L4 18.59l7.72-7.72 1.47 1.35L5.41 20z\"/>\n",
              "  </svg>\n",
              "      </button>\n",
              "      \n",
              "  <style>\n",
              "    .colab-df-container {\n",
              "      display:flex;\n",
              "      flex-wrap:wrap;\n",
              "      gap: 12px;\n",
              "    }\n",
              "\n",
              "    .colab-df-convert {\n",
              "      background-color: #E8F0FE;\n",
              "      border: none;\n",
              "      border-radius: 50%;\n",
              "      cursor: pointer;\n",
              "      display: none;\n",
              "      fill: #1967D2;\n",
              "      height: 32px;\n",
              "      padding: 0 0 0 0;\n",
              "      width: 32px;\n",
              "    }\n",
              "\n",
              "    .colab-df-convert:hover {\n",
              "      background-color: #E2EBFA;\n",
              "      box-shadow: 0px 1px 2px rgba(60, 64, 67, 0.3), 0px 1px 3px 1px rgba(60, 64, 67, 0.15);\n",
              "      fill: #174EA6;\n",
              "    }\n",
              "\n",
              "    [theme=dark] .colab-df-convert {\n",
              "      background-color: #3B4455;\n",
              "      fill: #D2E3FC;\n",
              "    }\n",
              "\n",
              "    [theme=dark] .colab-df-convert:hover {\n",
              "      background-color: #434B5C;\n",
              "      box-shadow: 0px 1px 3px 1px rgba(0, 0, 0, 0.15);\n",
              "      filter: drop-shadow(0px 1px 2px rgba(0, 0, 0, 0.3));\n",
              "      fill: #FFFFFF;\n",
              "    }\n",
              "  </style>\n",
              "\n",
              "      <script>\n",
              "        const buttonEl =\n",
              "          document.querySelector('#df-071861d5-d685-4fa9-9f58-2c0fd6f31e67 button.colab-df-convert');\n",
              "        buttonEl.style.display =\n",
              "          google.colab.kernel.accessAllowed ? 'block' : 'none';\n",
              "\n",
              "        async function convertToInteractive(key) {\n",
              "          const element = document.querySelector('#df-071861d5-d685-4fa9-9f58-2c0fd6f31e67');\n",
              "          const dataTable =\n",
              "            await google.colab.kernel.invokeFunction('convertToInteractive',\n",
              "                                                     [key], {});\n",
              "          if (!dataTable) return;\n",
              "\n",
              "          const docLinkHtml = 'Like what you see? Visit the ' +\n",
              "            '<a target=\"_blank\" href=https://colab.research.google.com/notebooks/data_table.ipynb>data table notebook</a>'\n",
              "            + ' to learn more about interactive tables.';\n",
              "          element.innerHTML = '';\n",
              "          dataTable['output_type'] = 'display_data';\n",
              "          await google.colab.output.renderOutput(dataTable, element);\n",
              "          const docLink = document.createElement('div');\n",
              "          docLink.innerHTML = docLinkHtml;\n",
              "          element.appendChild(docLink);\n",
              "        }\n",
              "      </script>\n",
              "    </div>\n",
              "  </div>\n",
              "  "
            ]
          },
          "metadata": {},
          "execution_count": 7
        }
      ]
    },
    {
      "cell_type": "code",
      "source": [
        "from sklearn.model_selection import train_test_split\n",
        "\n",
        "X_train, X_test, y_train, y_test = train_test_split(X_scaled, y_scaled, test_size = 0.3, random_state = 1)"
      ],
      "metadata": {
        "id": "0Ufkf8VbsP9Y"
      },
      "execution_count": 8,
      "outputs": []
    },
    {
      "cell_type": "code",
      "source": [
        "#fitting a simple linear model\n",
        "\n",
        "reg_model = LinearRegression()\n",
        "reg_model.fit(X_train, y_train)\n",
        "\n",
        "for idx, col_name in enumerate(X_train.columns):\n",
        "  print(f\"The coeffiecint for {col_name} is {reg_model.coef_[0][idx]}\")"
      ],
      "metadata": {
        "colab": {
          "base_uri": "https://localhost:8080/"
        },
        "id": "D4Y9JIEb_teD",
        "outputId": "40fd0f0d-d96a-4564-8667-2ebe3062b6d7"
      },
      "execution_count": 9,
      "outputs": [
        {
          "output_type": "stream",
          "name": "stdout",
          "text": [
            "The coeffiecint for cyl is 0.32102238569161046\n",
            "The coeffiecint for disp is 0.3248343091848398\n",
            "The coeffiecint for hp is -0.22916950059437655\n",
            "The coeffiecint for wt is -0.7112101905072297\n",
            "The coeffiecint for acc is 0.014713682764191029\n",
            "The coeffiecint for yr is 0.37558119495107434\n",
            "The coeffiecint for car_type is 0.38147694842331054\n",
            "The coeffiecint for origin_america is -0.07472247547584163\n",
            "The coeffiecint for origin_asia is 0.044515252035678465\n",
            "The coeffiecint for origin_europe is 0.04834854953945399\n"
          ]
        }
      ]
    },
    {
      "cell_type": "code",
      "source": [
        "#building a regularised ridge model\n",
        "ridge = Ridge(alpha = .3)\n",
        "ridge.fit(X_train, y_train)\n",
        "print(f\"The coefficients are {ridge.coef_}\")"
      ],
      "metadata": {
        "colab": {
          "base_uri": "https://localhost:8080/"
        },
        "id": "8rHuHpH5Aikf",
        "outputId": "706a65d4-d198-4f94-e74d-ff1cc3333b60"
      },
      "execution_count": 10,
      "outputs": [
        {
          "output_type": "stream",
          "name": "stdout",
          "text": [
            "The coefficients are [[ 0.31649043  0.31320707 -0.22876025 -0.70109447  0.01295851  0.37447352\n",
            "   0.37725608 -0.07423624  0.04441039  0.04784031]]\n"
          ]
        }
      ]
    },
    {
      "cell_type": "code",
      "source": [
        "#building a regularised lasso model\n",
        "lasso = Lasso(alpha = .1)\n",
        "lasso.fit(X_train, y_train)\n",
        "print(f\"The coefficients are {lasso.coef_}\")"
      ],
      "metadata": {
        "colab": {
          "base_uri": "https://localhost:8080/"
        },
        "id": "OoNUjybIQQUq",
        "outputId": "91d6b2f0-4f3c-4841-c3a2-ebffc331345d"
      },
      "execution_count": 11,
      "outputs": [
        {
          "output_type": "stream",
          "name": "stdout",
          "text": [
            "The coefficients are [-0.         -0.         -0.01690287 -0.51890013  0.          0.28138241\n",
            "  0.1278489  -0.01642647  0.          0.        ]\n"
          ]
        }
      ]
    },
    {
      "cell_type": "markdown",
      "source": [
        "Comaring the scores of all the Regression models we built (Simple Linear regression, Ridge regression, Lasso Regresssion)"
      ],
      "metadata": {
        "id": "ilTSWHuJQ3Yg"
      }
    },
    {
      "cell_type": "code",
      "source": [
        "print(reg_model.score(X_train, y_train))\n",
        "print(reg_model.score(X_test, y_test))"
      ],
      "metadata": {
        "colab": {
          "base_uri": "https://localhost:8080/"
        },
        "id": "E0a7HMQzQv_c",
        "outputId": "afc5a5db-22b1-460d-9df2-b1d72d7e340d"
      },
      "execution_count": 12,
      "outputs": [
        {
          "output_type": "stream",
          "name": "stdout",
          "text": [
            "0.8343770256960538\n",
            "0.8513421387780067\n"
          ]
        }
      ]
    },
    {
      "cell_type": "code",
      "source": [
        "print(ridge.score(X_train, y_train))\n",
        "print(ridge.score(X_test, y_test))"
      ],
      "metadata": {
        "colab": {
          "base_uri": "https://localhost:8080/"
        },
        "id": "7I_i5yvuRuu6",
        "outputId": "070154d0-6667-460b-d35a-245f6688ab5e"
      },
      "execution_count": 13,
      "outputs": [
        {
          "output_type": "stream",
          "name": "stdout",
          "text": [
            "0.8343617931312616\n",
            "0.8518882171608504\n"
          ]
        }
      ]
    },
    {
      "cell_type": "code",
      "source": [
        "print(lasso.score(X_train, y_train))\n",
        "print(lasso.score(X_test, y_test))"
      ],
      "metadata": {
        "colab": {
          "base_uri": "https://localhost:8080/"
        },
        "id": "kGBtFl6YR0dM",
        "outputId": "79d588e8-54db-4bdc-99fb-7dd3dd00f08d"
      },
      "execution_count": 14,
      "outputs": [
        {
          "output_type": "stream",
          "name": "stdout",
          "text": [
            "0.7938010766228453\n",
            "0.8375229615977083\n"
          ]
        }
      ]
    },
    {
      "cell_type": "code",
      "source": [
        "#The results are quite similar in both the regularised and non regularised models. But the regularised models are quite simpler and they are number of dimensions is less in Lasso model"
      ],
      "metadata": {
        "id": "A1zNdupNR5QM"
      },
      "execution_count": 15,
      "outputs": []
    },
    {
      "cell_type": "markdown",
      "source": [
        "**We will build a Polynomial model now to capture the non linear relationship between the features**"
      ],
      "metadata": {
        "id": "YCnGkTdNTY6T"
      }
    },
    {
      "cell_type": "code",
      "source": [
        "from sklearn.preprocessing import PolynomialFeatures"
      ],
      "metadata": {
        "id": "2X8tmhpITjZb"
      },
      "execution_count": 16,
      "outputs": []
    },
    {
      "cell_type": "code",
      "source": [
        "poly = PolynomialFeatures(degree = 2, interaction_only = True)"
      ],
      "metadata": {
        "id": "AgcdCvx8Utsj"
      },
      "execution_count": 17,
      "outputs": []
    },
    {
      "cell_type": "code",
      "source": [
        "X_poly = poly.fit_transform(X_scaled)\n",
        "X_train_poly, X_test_poly, y_train_poly, y_test_poly = train_test_split(X_poly, y, test_size = 0.3, random_state = 1)\n",
        "X_train_poly.shape"
      ],
      "metadata": {
        "colab": {
          "base_uri": "https://localhost:8080/"
        },
        "id": "iIScQ5ExU8P1",
        "outputId": "d983599e-9dc1-4f40-c7d2-419741afb71b"
      },
      "execution_count": 18,
      "outputs": [
        {
          "output_type": "execute_result",
          "data": {
            "text/plain": [
              "(278, 56)"
            ]
          },
          "metadata": {},
          "execution_count": 18
        }
      ]
    },
    {
      "cell_type": "code",
      "source": [
        "reg_model_poly = LinearRegression()\n",
        "reg_model_poly.fit(X_train_poly, y_train_poly)\n",
        "reg_model_poly.coef_[0]"
      ],
      "metadata": {
        "colab": {
          "base_uri": "https://localhost:8080/"
        },
        "id": "wnGKQmrKV0Dl",
        "outputId": "07d4a6d8-365a-44a2-a684-098077f0e542"
      },
      "execution_count": 19,
      "outputs": [
        {
          "output_type": "execute_result",
          "data": {
            "text/plain": [
              "array([-9.67853872e-13, -3.45886171e+10, -4.44319332e+00, -2.20713292e+00,\n",
              "       -2.95250387e+00, -1.53883744e+00,  3.01473348e+00, -4.60540335e+10,\n",
              "       -2.07900267e+10,  1.09400877e+11, -8.68487255e+10, -1.26832814e+00,\n",
              "       -1.16659123e+00, -1.35749094e-01,  2.81359972e+00, -1.97650100e+00,\n",
              "       -1.10816273e+11, -1.93916592e+11, -7.12573640e+10, -6.80153296e+10,\n",
              "        3.85037368e-01,  1.71579269e-01, -5.25571363e-01,  3.49994333e+00,\n",
              "       -2.04658007e+00, -2.62191546e+10, -2.16090047e+10, -2.06258483e+10,\n",
              "        1.83546538e-01, -6.24509796e-01, -1.89501969e+00, -5.63179799e-01,\n",
              "       -1.08850675e+10, -8.97113113e+09, -8.56296678e+09, -1.93246841e-01,\n",
              "        5.19730568e-01, -3.53975296e+00,  4.92858486e+10,  4.06198503e+10,\n",
              "        3.87717472e+10,  5.21789551e-01,  1.75518036e+00,  9.36501148e+09,\n",
              "        7.71834867e+09,  7.36718284e+09,  3.74290466e-01,  6.87454454e+09,\n",
              "        5.66578394e+09,  5.40800475e+09, -2.72196349e+10,  2.96019913e+10,\n",
              "        2.82551736e+10,  7.01517623e+09, -1.44902352e+11,  8.29552777e+10])"
            ]
          },
          "metadata": {},
          "execution_count": 19
        }
      ]
    },
    {
      "cell_type": "code",
      "source": [
        "ridge_poly = Ridge(.3)\n",
        "ridge_poly.fit(X_train_poly, y_train_poly)\n",
        "ridge_poly.coef_"
      ],
      "metadata": {
        "colab": {
          "base_uri": "https://localhost:8080/"
        },
        "id": "1JWm6c4fWTZd",
        "outputId": "ad256a15-0d84-40c9-c99e-045533863cef"
      },
      "execution_count": 20,
      "outputs": [
        {
          "output_type": "execute_result",
          "data": {
            "text/plain": [
              "array([[ 0.        ,  3.73512981, -2.93500874, -2.13974194, -3.56547812,\n",
              "        -1.28898893,  3.01290805,  2.04739082,  0.0786974 ,  0.21972225,\n",
              "        -0.3302341 , -1.46231096, -1.17221896,  0.00856067,  2.48054694,\n",
              "        -1.67596093,  0.99537516, -2.29024279,  4.7699338 , -2.08598898,\n",
              "         0.34009408,  0.35024058, -0.41761834,  3.06970569, -2.21649433,\n",
              "         1.86339518, -2.62934278,  0.38596397,  0.12088534, -0.53440382,\n",
              "        -1.88265835, -0.7675926 , -0.90146842,  0.52416091,  0.59678246,\n",
              "        -0.26349448,  0.5827378 , -3.02842915, -0.36548074,  0.5956112 ,\n",
              "        -0.15941014,  0.49168856,  1.45652375, -0.43819158, -0.20964198,\n",
              "         0.77665496,  0.36489921, -0.4750838 ,  0.3551047 ,  0.23188557,\n",
              "        -1.42941282,  2.06831543, -0.34986402, -0.32320394,  0.39054656,\n",
              "         0.06283411]])"
            ]
          },
          "metadata": {},
          "execution_count": 20
        }
      ]
    },
    {
      "cell_type": "code",
      "source": [
        "lasso_poly = Lasso(.1)\n",
        "lasso_poly.fit(X_train_poly, y_train_poly)\n",
        "lasso_poly.coef_"
      ],
      "metadata": {
        "colab": {
          "base_uri": "https://localhost:8080/"
        },
        "id": "0AAMB_VNWxu5",
        "outputId": "efd2c7e2-4b7d-4e38-b047-2898530b5536"
      },
      "execution_count": 21,
      "outputs": [
        {
          "output_type": "execute_result",
          "data": {
            "text/plain": [
              "array([ 0.        , -0.        , -0.        , -1.59613165, -5.22452383,\n",
              "       -0.        ,  2.86907439,  0.03030592, -0.10514919,  0.        ,\n",
              "        0.        , -0.        , -0.        ,  0.        ,  0.28971732,\n",
              "       -0.        ,  0.        , -0.        ,  0.11457443, -0.        ,\n",
              "        0.        ,  1.15720495,  0.        ,  0.        , -0.        ,\n",
              "        0.        ,  0.        , -0.        ,  0.04724906,  0.        ,\n",
              "       -0.6925298 , -0.        ,  0.        ,  0.        , -0.        ,\n",
              "       -0.        , -0.        , -0.67082659,  0.        , -0.        ,\n",
              "       -0.        ,  0.16918498, -0.        , -0.61771612,  0.        ,\n",
              "        0.36046427,  0.        , -0.37086554,  0.        ,  0.        ,\n",
              "       -0.        , -0.        ,  0.18165859, -0.        , -0.        ,\n",
              "       -0.        ])"
            ]
          },
          "metadata": {},
          "execution_count": 21
        }
      ]
    },
    {
      "cell_type": "code",
      "source": [
        "#Checking the scores of the Simple, Ridge, Lasso regressions with polynomial features\n",
        "#Simple linear regression\n",
        "print(reg_model_poly.score(X_train_poly, y_train_poly))\n",
        "print(reg_model_poly.score(X_test_poly, y_test_poly))"
      ],
      "metadata": {
        "colab": {
          "base_uri": "https://localhost:8080/"
        },
        "id": "p-0V3YUoXImV",
        "outputId": "06c05d44-292a-4a50-f340-d62c802634ed"
      },
      "execution_count": 22,
      "outputs": [
        {
          "output_type": "stream",
          "name": "stdout",
          "text": [
            "0.9150553186137941\n",
            "0.8587339450004422\n"
          ]
        }
      ]
    },
    {
      "cell_type": "code",
      "source": [
        "#Ridge regression\n",
        "print(ridge_poly.score(X_train_poly, y_train_poly))\n",
        "print(ridge_poly.score(X_test_poly, y_test_poly))"
      ],
      "metadata": {
        "colab": {
          "base_uri": "https://localhost:8080/"
        },
        "id": "USMmUPWrXxhs",
        "outputId": "1132da45-01ca-428e-f5fb-300aa8687b3b"
      },
      "execution_count": 23,
      "outputs": [
        {
          "output_type": "stream",
          "name": "stdout",
          "text": [
            "0.9143225702003367\n",
            "0.861339805369855\n"
          ]
        }
      ]
    },
    {
      "cell_type": "code",
      "source": [
        "#Lasso regression\n",
        "print(lasso_poly.score(X_train_poly, y_train_poly))\n",
        "print(lasso_poly.score(X_test_poly, y_test_poly))"
      ],
      "metadata": {
        "colab": {
          "base_uri": "https://localhost:8080/"
        },
        "id": "OtOiswJkYBep",
        "outputId": "c1f72de0-50f5-48d9-a77c-b09728b4de63"
      },
      "execution_count": 24,
      "outputs": [
        {
          "output_type": "stream",
          "name": "stdout",
          "text": [
            "0.8900519684208551\n",
            "0.880222844847697\n"
          ]
        }
      ]
    },
    {
      "cell_type": "markdown",
      "source": [
        "The accuracy is a bit better than earlier and if we compare the accuracies of the earlier linear versions. For training data, polynomial linear regression, poynomial ridge regression is doing quite good. But to generalize the model and predict the scores for test data lasso model and ridge model are doing really well. We can get a competitive scores using very less dimensions and simpler models using regularization methods."
      ],
      "metadata": {
        "id": "6nlTply5Y08i"
      }
    },
    {
      "cell_type": "code",
      "source": [],
      "metadata": {
        "id": "1jxda06qYRt8"
      },
      "execution_count": 24,
      "outputs": []
    }
  ]
}